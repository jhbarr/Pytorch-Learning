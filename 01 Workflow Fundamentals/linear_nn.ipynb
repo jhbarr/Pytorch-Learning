{
 "cells": [
  {
   "cell_type": "code",
   "execution_count": null,
   "id": "53007157",
   "metadata": {},
   "outputs": [
    {
     "name": "stdout",
     "output_type": "stream",
     "text": [
      "Using device: mps\n"
     ]
    }
   ],
   "source": [
    "import torch \n",
    "from torch import nn\n",
    "import matplotlib.pyplot as plt\n",
    "\n",
    "# this code specifies whic device to use for neural net computations\n",
    "# mps is the apple chip GPU, so this should speed up calculations\n",
    "device = \"mps\" if torch.backends.mps.is_available() else \"cpu\"\n",
    "print(f\"Using device: {device}\")"
   ]
  },
  {
   "cell_type": "markdown",
   "id": "e035ed05",
   "metadata": {},
   "source": [
    "# Data\n",
    "Hard code some linear data using basic weight and bias values"
   ]
  },
  {
   "cell_type": "code",
   "execution_count": null,
   "id": "1ce361c8",
   "metadata": {},
   "outputs": [
    {
     "name": "stdout",
     "output_type": "stream",
     "text": [
      "tensor([[0.0000],\n",
      "        [0.0200],\n",
      "        [0.0400],\n",
      "        [0.0600],\n",
      "        [0.0800],\n",
      "        [0.1000],\n",
      "        [0.1200],\n",
      "        [0.1400],\n",
      "        [0.1600],\n",
      "        [0.1800]]) tensor([[0.3000],\n",
      "        [0.3140],\n",
      "        [0.3280],\n",
      "        [0.3420],\n",
      "        [0.3560],\n",
      "        [0.3700],\n",
      "        [0.3840],\n",
      "        [0.3980],\n",
      "        [0.4120],\n",
      "        [0.4260]])\n"
     ]
    }
   ],
   "source": [
    "# Create a weight and bias\n",
    "weight = 0.7\n",
    "bias = 0.3\n",
    "\n",
    "# create range values\n",
    "star = 0\n",
    "end = 1\n",
    "step = 0.02\n",
    "\n",
    "# Create x and y (features and labels)\n",
    "# The unsqueeze function creates a tensor of shape (50, 1) rather than of size (50)\n",
    "# essentially, this creates a 2d tensor rather than a 1d vector\n",
    "# We need to do this becuase otherwise there will be vector multiplication errors in the neural net layers\n",
    "x = torch.arange(star, end, step).unsqueeze(dim=1)\n",
    "y = weight * x + bias\n",
    "\n",
    "print(x[:10], y[:10])"
   ]
  },
  {
   "cell_type": "markdown",
   "id": "129b9e57",
   "metadata": {},
   "source": [
    "Now We want to split the data into training and validation sets. We'll use 80% of the data for training and the remaining 20% of the data for validation / testing"
   ]
  },
  {
   "cell_type": "code",
   "execution_count": 4,
   "id": "1e0d7377",
   "metadata": {},
   "outputs": [],
   "source": [
    "# Split the data\n",
    "train_split = int(0.8 * len(x))\n",
    "\n",
    "x_train, y_train = x[:train_split], y[:train_split]\n",
    "x_test, y_test = x[train_split:], y[train_split:]"
   ]
  },
  {
   "cell_type": "code",
   "execution_count": 5,
   "id": "d69f98a6",
   "metadata": {},
   "outputs": [
    {
     "data": {
      "image/png": "[encoded data removed]",
      "text/plain": [
       "<Figure size 1000x700 with 1 Axes>"
      ]
     },
     "metadata": {},
     "output_type": "display_data"
    }
   ],
   "source": [
    "def plot_predictions(train_data=x_train, \n",
    "                     train_labels=y_train, \n",
    "                     test_data=x_test, \n",
    "                     test_labels=y_test, \n",
    "                     predictions=None):\n",
    "  \"\"\"\n",
    "  Plots training data, test data and compares predictions.\n",
    "  \"\"\"\n",
    "  plt.figure(figsize=(10, 7))\n",
    "\n",
    "  # Plot training data in blue\n",
    "  plt.scatter(train_data, train_labels, c=\"b\", s=4, label=\"Training data\")\n",
    "  \n",
    "  # Plot test data in green\n",
    "  plt.scatter(test_data, test_labels, c=\"g\", s=4, label=\"Testing data\")\n",
    "\n",
    "  if predictions is not None:\n",
    "    # Plot the predictions in red (predictions were made on the test data)\n",
    "    plt.scatter(test_data, predictions, c=\"r\", s=4, label=\"Predictions\")\n",
    "\n",
    "  # Show the legend\n",
    "  plt.legend(prop={\"size\": 14})\n",
    "\n",
    "plot_predictions(x_train, y_train, x_test, y_test)\n"
   ]
  },
  {
   "cell_type": "markdown",
   "id": "82d53f33",
   "metadata": {},
   "source": [
    "# Build a PyTorch linear model\n",
    "We will use the built in nn.Linear() to create the weight and bias parameters for the linear regression. So that we don't have to do it manually."
   ]
  },
  {
   "cell_type": "code",
   "execution_count": null,
   "id": "204dd14d",
   "metadata": {},
   "outputs": [
    {
     "name": "stdout",
     "output_type": "stream",
     "text": [
      "LinearRegressionModel(\n",
      "  (linear_layer): Linear(in_features=1, out_features=1, bias=True)\n",
      ") OrderedDict([('linear_layer.weight', tensor([[0.7645]])), ('linear_layer.bias', tensor([0.8300]))])\n"
     ]
    }
   ],
   "source": [
    "class LinearRegressionModel(nn.Module):\n",
    "    def __init__(self):\n",
    "        super().__init__()\n",
    "        # Use the nn.Linear() for creating the linear model parameters\n",
    "        # The in and out features specify the number of dimensions that the input layer and output\n",
    "        # layer should have\n",
    "        self.linear_layer = nn.Linear(in_features=1, out_features=1)\n",
    "    \n",
    "    # This takes in the input data and passes it through the linear layer for the output\n",
    "    # at the moment, we do not have any hidden layers\n",
    "    def forward(self, x):\n",
    "        return self.linear_layer(x)\n",
    "\n",
    "torch.manual_seed(42)\n",
    "model = LinearRegressionModel()\n",
    "print(model, model.state_dict())"
   ]
  },
  {
   "cell_type": "markdown",
   "id": "4e847168",
   "metadata": {},
   "source": [
    "# Changing device type\n",
    "We can change the computational device that the calculations run on by specifying the name of the device that we want the computations to run on"
   ]
  },
  {
   "cell_type": "code",
   "execution_count": null,
   "id": "f755fb1e",
   "metadata": {},
   "outputs": [
    {
     "data": {
      "text/plain": [
       "device(type='mps', index=0)"
      ]
     },
     "execution_count": 11,
     "metadata": {},
     "output_type": "execute_result"
    }
   ],
   "source": [
    "next(model.parameters()).device\n",
    "\n",
    "# Here we attempt to switch it to the Mac's gpu\n",
    "model.to(device)\n",
    "next(model.parameters()).device"
   ]
  },
  {
   "cell_type": "markdown",
   "id": "f1744077",
   "metadata": {},
   "source": [
    "# Training\n",
    "Here we build our training and testing loop for the model. We first need to specify a loss function and an optimizer that should be used for calculating and executing gradient descent. \n",
    "\\\n",
    "\\\n",
    "One thing to note is that you will probably get slightly different answers depending on whether you run the calculations on the CPU vs the GPU. "
   ]
  },
  {
   "cell_type": "code",
   "execution_count": 12,
   "id": "6fcfe863",
   "metadata": {},
   "outputs": [],
   "source": [
    "# According to documentation, the L1 loss function is the mean absolute error (MAE) loss function\n",
    "# It calculates the absolute differenece between each output and expected output and takes the mean \n",
    "# of these differences to come up with a single loss value for a training epoch\n",
    "loss_func = nn.L1Loss()\n",
    "\n",
    "# Create an optimizer\n",
    "# This optimizer is the Stochastic Gradient Descent, which we used in the other model as well\n",
    "opt = torch.optim.SGD(params=model.parameters(), lr=0.01)"
   ]
  },
  {
   "cell_type": "code",
   "execution_count": null,
   "id": "ea8f0387",
   "metadata": {},
   "outputs": [
    {
     "name": "stdout",
     "output_type": "stream",
     "text": [
      "Epoch: 0 | Train loss: 0.5551779270172119 | Test loss: 0.5739762783050537\n",
      "Epoch: 100 | Train loss: 0.006215682718902826 | Test loss: 0.014086711220443249\n",
      "Epoch: 200 | Train loss: 0.0012645088136196136 | Test loss: 0.013801807537674904\n",
      "Epoch: 300 | Train loss: 0.0012645088136196136 | Test loss: 0.013801807537674904\n",
      "Epoch: 400 | Train loss: 0.0012645088136196136 | Test loss: 0.013801807537674904\n",
      "Epoch: 500 | Train loss: 0.0012645088136196136 | Test loss: 0.013801807537674904\n",
      "Epoch: 600 | Train loss: 0.0012645088136196136 | Test loss: 0.013801807537674904\n",
      "Epoch: 700 | Train loss: 0.0012645088136196136 | Test loss: 0.013801807537674904\n",
      "Epoch: 800 | Train loss: 0.0012645088136196136 | Test loss: 0.013801807537674904\n",
      "Epoch: 900 | Train loss: 0.0012645088136196136 | Test loss: 0.013801807537674904\n"
     ]
    }
   ],
   "source": [
    "torch.manual_seed(42)\n",
    "\n",
    "# Set the number of training epochs\n",
    "epochs = 1000\n",
    "\n",
    "# Since we put the device on the GPU, we also want to put the data onto the GPU\n",
    "# without this, an error will happen (not all model/data on device)\n",
    "x_train = x_train.to(device)\n",
    "y_train = y_train.to(device)\n",
    "x_test = x_test.to(device)\n",
    "y_test = y_test.to(device)\n",
    "\n",
    "# ** One thing to note is that we're not batching this data as we did in the other example\n",
    "for epoch in range(epochs):\n",
    "    # Put the model into training mode\n",
    "    model.train()\n",
    "\n",
    "    preds = model(x_train)\n",
    "    loss = loss_func(preds, y_train)\n",
    "\n",
    "    opt.zero_grad()\n",
    "    loss.backward()\n",
    "    opt.step()\n",
    "\n",
    "    # Put the model into inference mode\n",
    "    model.eval()\n",
    "    with torch.inference_mode():\n",
    "        test_preds = model(x_test)\n",
    "\n",
    "        test_loss = loss_func(test_preds, y_test)\n",
    "    \n",
    "    if epoch % 100 == 0:\n",
    "        print(f\"Epoch: {epoch} | Train loss: {loss} | Test loss: {test_loss}\")"
   ]
  },
  {
   "cell_type": "code",
   "execution_count": 14,
   "id": "76c58587",
   "metadata": {},
   "outputs": [
    {
     "name": "stdout",
     "output_type": "stream",
     "text": [
      "The model learned the following values for weights and bias:\n",
      "OrderedDict([('linear_layer.weight', tensor([[0.6968]], device='mps:0')),\n",
      "             ('linear_layer.bias', tensor([0.3025], device='mps:0'))])\n",
      "\n",
      "And the original values for weights and bias are:\n",
      "weights: 0.7, bias: 0.3\n"
     ]
    }
   ],
   "source": [
    "# Find our model's learned parameters\n",
    "from pprint import pprint # pprint = pretty print, see: https://docs.python.org/3/library/pprint.html \n",
    "print(\"The model learned the following values for weights and bias:\")\n",
    "pprint(model.state_dict())\n",
    "print(\"\\nAnd the original values for weights and bias are:\")\n",
    "print(f\"weights: {weight}, bias: {bias}\")"
   ]
  },
  {
   "cell_type": "markdown",
   "id": "10e20205",
   "metadata": {},
   "source": [
    "# Making predictions\n",
    "Now that we have trained our model, lets turn on it's evaluation mode and make some predictions based on some new data"
   ]
  },
  {
   "cell_type": "code",
   "execution_count": 16,
   "id": "39e0315f",
   "metadata": {},
   "outputs": [
    {
     "data": {
      "image/png": "[encoded data removed]",
      "text/plain": [
       "<Figure size 1000x700 with 1 Axes>"
      ]
     },
     "metadata": {},
     "output_type": "display_data"
    }
   ],
   "source": [
    "# Put the model into evaluation mode\n",
    "model.eval()\n",
    "\n",
    "with torch.inference_mode():\n",
    "    y_preds = model(x_test)\n",
    "\n",
    "# print(y_preds)\n",
    "\n",
    "# Many data science libraries like numpy and matplotlib can't use data that is stored\n",
    "# on the GPU. Therefore, since we ran these calculations on the GPU, we have to convert them\n",
    "# over to our CPU in order to make plots and do other sorts of data analysis on it\n",
    "plot_predictions(predictions=y_preds.cpu())"
   ]
  }
 ],
 "metadata": {
  "kernelspec": {
   "display_name": "Python (pyenv)",
   "language": "python",
   "name": "pyenv"
  },
  "language_info": {
   "codemirror_mode": {
    "name": "ipython",
    "version": 3
   },
   "file_extension": ".py",
   "mimetype": "text/x-python",
   "name": "python",
   "nbconvert_exporter": "python",
   "pygments_lexer": "ipython3",
   "version": "3.11.0"
  }
 },
 "nbformat": 4,
 "nbformat_minor": 5
}
