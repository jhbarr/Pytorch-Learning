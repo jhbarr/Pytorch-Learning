{
 "cells": [
  {
   "cell_type": "markdown",
   "id": "75f9c701",
   "metadata": {},
   "source": [
    "# MNIST Data Setup\n",
    "Here we will use the MNIST data set to train a basic neural network in pytorch"
   ]
  },
  {
   "cell_type": "code",
   "execution_count": 1,
   "id": "914dd510",
   "metadata": {},
   "outputs": [],
   "source": [
    "from pathlib import Path\n",
    "import requests\n",
    "\n",
    "# This code just requests the data from the github repo \n",
    "# and stores it in the directory. It also creates that directory if it does not\n",
    "# yet exist\n",
    "DATA_PATH = Path(\"data\")\n",
    "PATH = DATA_PATH / \"mnist\"\n",
    "\n",
    "PATH.mkdir(parents=True, exist_ok=True)\n",
    "\n",
    "URL = \"https://github.com/pytorch/tutorials/raw/main/_static/\"\n",
    "FILENAME = \"mnist.pkl.gz\"\n",
    "\n",
    "if not (PATH / FILENAME).exists():\n",
    "        content = requests.get(URL + FILENAME).content\n",
    "        (PATH / FILENAME).open(\"wb\").write(content)"
   ]
  },
  {
   "cell_type": "code",
   "execution_count": 2,
   "id": "2381e382",
   "metadata": {},
   "outputs": [],
   "source": [
    "import pickle\n",
    "import gzip\n",
    "\n",
    "# This code just opens the data from the pickle format so that it is python readable\n",
    "with gzip.open((PATH / FILENAME).as_posix(), \"rb\") as f:\n",
    "        ((x_train, y_train), (x_valid, y_valid), _) = pickle.load(f, encoding=\"latin-1\")"
   ]
  },
  {
   "cell_type": "code",
   "execution_count": 3,
   "id": "eb9e3e14",
   "metadata": {},
   "outputs": [
    {
     "data": {
      "image/png": "[encoded data removed]",
      "text/plain": [
       "<Figure size 640x480 with 1 Axes>"
      ]
     },
     "metadata": {},
     "output_type": "display_data"
    },
    {
     "name": "stdout",
     "output_type": "stream",
     "text": [
      "(50000, 784)\n"
     ]
    }
   ],
   "source": [
    "import matplotlib.pyplot as plt\n",
    "import numpy as np\n",
    "\n",
    "# Plot an example image from the dataset\n",
    "# This code right here just takes the 784 array of pixel values and reshapes it\n",
    "# into a 28 * 28 array so that it can be displayed by plt\n",
    "plt.imshow(x_train[0].reshape((28, 28)), cmap=\"gray\")\n",
    "\n",
    "plt.show()\n",
    "\n",
    "# The shape of the data means that there are exactly 50,000 images, each of which \n",
    "# consists of exactly 784 pixels\n",
    "print(x_train.shape)"
   ]
  },
  {
   "cell_type": "markdown",
   "id": "9d999f94",
   "metadata": {},
   "source": [
    "# Create the training and validation split\n",
    "This code below will be used to divide up the data into data for training the model and data for validating the accuracy of the model"
   ]
  },
  {
   "cell_type": "code",
   "execution_count": 4,
   "id": "02e80024",
   "metadata": {},
   "outputs": [
    {
     "name": "stdout",
     "output_type": "stream",
     "text": [
      "tensor([[0., 0., 0.,  ..., 0., 0., 0.],\n",
      "        [0., 0., 0.,  ..., 0., 0., 0.],\n",
      "        [0., 0., 0.,  ..., 0., 0., 0.],\n",
      "        ...,\n",
      "        [0., 0., 0.,  ..., 0., 0., 0.],\n",
      "        [0., 0., 0.,  ..., 0., 0., 0.],\n",
      "        [0., 0., 0.,  ..., 0., 0., 0.]]) tensor([5, 0, 4,  ..., 8, 4, 8])\n",
      "torch.Size([50000, 784])\n",
      "tensor(0) tensor(9)\n"
     ]
    }
   ],
   "source": [
    "import torch\n",
    "\n",
    "# This just converts our np array of pixel values into tensors, which can be \n",
    "# more easily interacted with in pytorch\n",
    "x_train, y_train, x_valid, y_valid = map(\n",
    "    torch.tensor, (x_train, y_train, x_valid, y_valid)\n",
    ")\n",
    "\n",
    "# This returns the data within the training inputs and outputs\n",
    "print(x_train, y_train)\n",
    "\n",
    "# the shape of the input data is like above. 50,000 images of 784 pixels each\n",
    "print(x_train.shape)\n",
    "\n",
    "# The training data is a single dimensional vector each corresponding to what the input data\n",
    "# corresponds to\n",
    "# So the output values can range from 0-9\n",
    "print(y_train.min(), y_train.max())"
   ]
  },
  {
   "cell_type": "markdown",
   "id": "5db86115",
   "metadata": {},
   "source": [
    "# Neural Net from scratch\n",
    "Here we will not subclass torch.nn to get a good look into how the classes and functions make our lives easier down the road. \n",
    "\\\n",
    "\\\n",
    "We first create weights and biases "
   ]
  },
  {
   "cell_type": "code",
   "execution_count": 5,
   "id": "d6719167",
   "metadata": {},
   "outputs": [],
   "source": [
    "import math\n",
    "\n",
    "# Here this creates a tensor of shape (784, 10) filled with random numbers\n",
    "# the input size of the network is 784 and the output size is 10\n",
    "weights = torch.randn(784, 10) / math.sqrt(784)\n",
    "\n",
    "# Setting this means that we can change the values in these tensors according to the gradient descent\n",
    "# that the network will calculate during training\n",
    "weights.requires_grad_()\n",
    "\n",
    "# there are 10 biases because each neuron in the output layer gets one bias\n",
    "# and since there are 10 output neurons, then there are 10 biases. \n",
    "bias = torch.zeros(10, requires_grad=True)"
   ]
  },
  {
   "cell_type": "markdown",
   "id": "4f4ef885",
   "metadata": {},
   "source": [
    "Next we will create our own activation and loss functions in order to calculate different things in our network. We have to define them ourselves for now. \n",
    "\\\n",
    "\\\n",
    "Here we define an activation function for the output neurons. Additionally, we define a method to forward propogate those activations based on the weights and biases to get the activation of the output nerurons"
   ]
  },
  {
   "cell_type": "code",
   "execution_count": 6,
   "id": "39a3941f",
   "metadata": {},
   "outputs": [],
   "source": [
    "def log_softmax(x):\n",
    "    return x - x.exp().sum(-1).log().unsqueeze(-1)\n",
    "\n",
    "# This function we don't have to worry too much about for now\n",
    "# but basically it is calculating the activation for a single neuron in the output layer\n",
    "# based on all of the input layer activations and weights and biases\n",
    "def model(xb):\n",
    "    return log_softmax(xb @ weights + bias)\n",
    "\n",
    "# ** NOTE ** @ stands for matrix multiplication"
   ]
  },
  {
   "cell_type": "code",
   "execution_count": 7,
   "id": "de3ce080",
   "metadata": {},
   "outputs": [
    {
     "name": "stdout",
     "output_type": "stream",
     "text": [
      "tensor([-2.4045, -2.3724, -2.3248, -2.0299, -2.3551, -2.4455, -2.2935, -2.4844,\n",
      "        -1.9658, -2.5084], grad_fn=<SelectBackward0>) torch.Size([64, 10])\n"
     ]
    }
   ],
   "source": [
    "bs = 64 # batch size (because we don't want to train it on all the data at once)\n",
    "\n",
    "# Here we create a batch of 64 images from the total training data\n",
    "xb = x_train[:64]\n",
    "\n",
    "# Then we make predictions in our output layer based on the activation function we just defined\n",
    "preds = model(xb)\n",
    "\n",
    "# Each of the numbers in the tensor below (i think) signifies how confident the network is about the input image\n",
    "# being each number 0-9\n",
    "# additionally, the shape of the predictions is a result of that above matrix multiplication. \n",
    "#   - (64, 784) @ (784, 10) = (64, 10)\n",
    "# * So the resultant tensor is 64 rows of 10 values\n",
    "print(preds[0], preds.shape)\n"
   ]
  },
  {
   "cell_type": "markdown",
   "id": "13cdf83a",
   "metadata": {},
   "source": [
    "Now we create a loss function to grade our network on how well it classified the input image. "
   ]
  },
  {
   "cell_type": "code",
   "execution_count": 8,
   "id": "a9b29ef6",
   "metadata": {},
   "outputs": [],
   "source": [
    "# This is just the math for a loss function that is usually pre-built into pytorch\n",
    "def nll(input, target):\n",
    "    return -input[range(target.shape[0]), target].mean()\n",
    "\n",
    "loss_func = nll"
   ]
  },
  {
   "cell_type": "code",
   "execution_count": 9,
   "id": "eb2a8a15",
   "metadata": {},
   "outputs": [
    {
     "name": "stdout",
     "output_type": "stream",
     "text": [
      "tensor(2.3915, grad_fn=<NegBackward0>)\n"
     ]
    }
   ],
   "source": [
    "yb = y_train[0:bs]\n",
    "\n",
    "# Here we get a single numerical result that is the grade of how well we classified the images\n",
    "# Our goal of the network is to minimize this cost \n",
    "print(loss_func(preds, yb))"
   ]
  },
  {
   "cell_type": "markdown",
   "id": "e0f4c7ed",
   "metadata": {},
   "source": [
    "We can also create a function to rate the accuracy of our model"
   ]
  },
  {
   "cell_type": "code",
   "execution_count": 10,
   "id": "6ed37234",
   "metadata": {},
   "outputs": [
    {
     "name": "stdout",
     "output_type": "stream",
     "text": [
      "tensor(0.0938)\n"
     ]
    }
   ],
   "source": [
    "def accuracy(out, yb):\n",
    "    # this line goes through each of the 64 output results and gets the maximum value from that row\n",
    "    # (along dimension 1)\n",
    "    # it then returns a tensor of length 64 where each of the values is the index of those largest values\n",
    "    preds = torch.argmax(out, dim=1)\n",
    "\n",
    "    # So if all of the largest activation values equals the actual labels of the training data\n",
    "    # the model is accurately predicting the numbers\n",
    "    # so the neuron with the highest activation will be the one that is selected\n",
    "    # by taking the mean of all the times that the prediction matched the actual result, we get a number for how accurate\n",
    "    # on average our model is\n",
    "    return (preds == yb).float().mean()\n",
    "\n",
    "print(accuracy(preds, yb))"
   ]
  },
  {
   "cell_type": "markdown",
   "id": "d2c99d2f",
   "metadata": {},
   "source": [
    "# Training Loop\n",
    "For each training loop we will:\n",
    " - Select a mini batch of data for the network to train on (of size bs)\n",
    " - Use the model to make predictions\n",
    " - Calculate the loss based on those model predictions\n",
    " - Propogate the loss backwards through the network to calculate the gradient in order to nudge the weights and biases"
   ]
  },
  {
   "cell_type": "code",
   "execution_count": 11,
   "id": "6854ec8d",
   "metadata": {},
   "outputs": [
    {
     "name": "stdout",
     "output_type": "stream",
     "text": [
      "tensor(1.6850, grad_fn=<NegBackward0>) tensor(0.3906)\n"
     ]
    }
   ],
   "source": [
    "lr = 0.5 # This is the learning rate of the network\n",
    "epochs = 2\n",
    "\n",
    "for epoch in range(epochs):\n",
    "    for i in range((epoch - 1) // bs + 1):\n",
    "        \n",
    "        # Here we just section off a batch of the training data to train our model on\n",
    "        start_i = i * bs\n",
    "        end_i = start_i + bs\n",
    "        \n",
    "        xb = x_train[start_i : end_i]\n",
    "        yb = y_train[start_i : end_i]\n",
    "\n",
    "        # We then forward propogate the input data through the network to achieve some sort of result\n",
    "        pred = model(xb)\n",
    "\n",
    "        # We then calculate the loss function of that result\n",
    "        loss = loss_func(pred, yb)\n",
    "\n",
    "        # Here we perform backpropogation\n",
    "        # The loss informatino is propogated back through the network in order to calculate the gradient descent\n",
    "        # of the weights and biases \n",
    "        loss.backward()\n",
    "\n",
    "        # we do torch.no_grad() because we don't want these changes to the weights and biases to be factored\n",
    "        # into the next calculate of the gradient. \n",
    "        # auto_grad keeps a running tally of all the calculations to parameters that have that parameter set to true\n",
    "        with torch.no_grad():\n",
    "            weights -= weights.grad * lr\n",
    "            bias -= bias.grad * lr\n",
    "\n",
    "            # We zero the gradients here before the next training loop\n",
    "            # otherwise the changes from this training loop will persist\n",
    "            weights.grad.zero_()\n",
    "            bias.grad.zero_()\n",
    "\n",
    "print(loss_func(model(xb), yb), accuracy(model(xb), yb))\n"
   ]
  },
  {
   "cell_type": "markdown",
   "id": "2bfee10c",
   "metadata": {},
   "source": [
    "# Using torch.nn.functional\n",
    "This module contains all of the functions in the torch.nn library. (whereas the other parts of the library contain classes). The main things that you can find in this library are pre-built loss and activations funcions. Along with osme functions for pooling and doing convolutional layers. "
   ]
  },
  {
   "cell_type": "code",
   "execution_count": 12,
   "id": "b1daf75f",
   "metadata": {},
   "outputs": [
    {
     "name": "stdout",
     "output_type": "stream",
     "text": [
      "tensor(1.6850, grad_fn=<NllLossBackward0>) tensor(0.3906)\n"
     ]
    }
   ],
   "source": [
    "import torch.nn.functional as f\n",
    "\n",
    "# The cross entropy function combines the log likelihood loss function and log softmax \n",
    "# activation function into one single function. \n",
    "# Therefore, we can even remove the activation function from our model\n",
    "loss_func = f.cross_entropy\n",
    "\n",
    "def model(xb):\n",
    "    return xb @ weights + bias\n",
    "\n",
    "# This shows that the cross entropy function performs a lot of the work behind the scenes\n",
    "print(loss_func(model(xb), yb), accuracy(model(xb), yb))"
   ]
  },
  {
   "cell_type": "markdown",
   "id": "39c69313",
   "metadata": {},
   "source": [
    "# Refactor using the nn.Module\n",
    "We can subclass the module to create our own custom neural network module. The class has a number of built in functions that we will be using. It also has the ability to keep track of state and parameters."
   ]
  },
  {
   "cell_type": "code",
   "execution_count": 13,
   "id": "69bc9d3f",
   "metadata": {},
   "outputs": [
    {
     "name": "stdout",
     "output_type": "stream",
     "text": [
      "tensor(2.3545, grad_fn=<NllLossBackward0>)\n"
     ]
    }
   ],
   "source": [
    "from torch import nn\n",
    "\n",
    "class Mnist_Logistic(nn.Module):\n",
    "    def __init__(self):\n",
    "        super().__init__()\n",
    "        self.weights = nn.Parameter(torch.randn(784, 10) / math.sqrt(784))\n",
    "        self.bias = nn.Parameter(torch.zeros(10))\n",
    "\n",
    "    # This function will perform the forward propogation of data in the network\n",
    "    # so it will automatically output data based on the inputs\n",
    "    def forward(self, xb):\n",
    "        return xb @ self.weights + self.bias\n",
    "    \n",
    "\n",
    "# Since the model is a class, before using it we must first instantiate it\n",
    "model = Mnist_Logistic()\n",
    "\n",
    "# This calls the forward method automatically (when you pass data to the object)\n",
    "print(loss_func(model(xb), yb))"
   ]
  },
  {
   "cell_type": "markdown",
   "id": "0ad95434",
   "metadata": {},
   "source": [
    "We can also take advantage of the pre-built optimizer functions, so that we don't have to manually worry about stepping each of the parameters every training epoch."
   ]
  },
  {
   "cell_type": "code",
   "execution_count": 14,
   "id": "8fc5d30c",
   "metadata": {},
   "outputs": [
    {
     "name": "stdout",
     "output_type": "stream",
     "text": [
      "tensor(2.4099, grad_fn=<NllLossBackward0>)\n",
      "tensor(1.7195, grad_fn=<NllLossBackward0>)\n"
     ]
    }
   ],
   "source": [
    "from torch import optim\n",
    "\n",
    "def get_model():\n",
    "    model = Mnist_Logistic()\n",
    "\n",
    "    # This returns an optimizer of Stochastic Gradient Descent\n",
    "    return model, optim.SGD(model.parameters(), lr=lr)\n",
    "\n",
    "\n",
    "model, opt = get_model()\n",
    "print(loss_func(model(xb), yb))\n",
    "\n",
    "for epoch in range(epochs):\n",
    "    for i in range((epoch - 1) // bs + 1):\n",
    "        start_i = i * bs\n",
    "        end_i = start_i + bs\n",
    "        xb = x_train[start_i:end_i]\n",
    "        yb = y_train[start_i:end_i]\n",
    "        pred = model(xb)\n",
    "        loss = loss_func(pred, yb)\n",
    "\n",
    "        loss.backward()\n",
    "        opt.step()\n",
    "        opt.zero_grad()\n",
    "\n",
    "# As we can see that after the running of the training, the loss function decreases\n",
    "# meaning that we are going to see slightly better results in our network\n",
    "print(loss_func(model(xb), yb))"
   ]
  },
  {
   "cell_type": "markdown",
   "id": "9964dab8",
   "metadata": {},
   "source": [
    "# Refactor using Dataset\n",
    "This is an abstract dataset class. A dataset is anything that has a __len__ function. and a __getitem__ function. \n",
    "\\\n",
    "\\\n",
    "The TensorDataset is a dataset wrapping tensors. It gives us an easier way of iterating, indexing and slicing along the first dimension of a tensor. "
   ]
  },
  {
   "cell_type": "code",
   "execution_count": 15,
   "id": "1d7ef4bc",
   "metadata": {},
   "outputs": [],
   "source": [
    "from torch.utils.data import TensorDataset\n",
    "\n",
    "train_ds = TensorDataset(x_train, y_train)"
   ]
  },
  {
   "cell_type": "markdown",
   "id": "e14d32eb",
   "metadata": {},
   "source": [
    "# Refactor using DataLoader\n",
    "DataLoader is responsible for managing batches. You can create a DataLoader from any pytorch Dataset. This makes it easier to iterate over batcehs, so we don't have to manually calculate how to divide up each of the training batches ourselves. "
   ]
  },
  {
   "cell_type": "code",
   "execution_count": 16,
   "id": "d9216d53",
   "metadata": {},
   "outputs": [],
   "source": [
    "from torch.utils.data import DataLoader\n",
    "\n",
    "# This just creates batches of size bs\n",
    "train_dl = DataLoader(train_ds, batch_size=bs)"
   ]
  },
  {
   "cell_type": "code",
   "execution_count": 17,
   "id": "4e0041a6",
   "metadata": {},
   "outputs": [
    {
     "name": "stdout",
     "output_type": "stream",
     "text": [
      "tensor(0.0827, grad_fn=<NllLossBackward0>)\n"
     ]
    }
   ],
   "source": [
    "model, opt = get_model()\n",
    "\n",
    "# This is our new training loop using all of the functions and classes form torch\n",
    "# It is a lot more concise than the first loop we created earlier\n",
    "for epoch in range(epochs):\n",
    "    for xb, yb in train_dl:\n",
    "        pred = model(xb)\n",
    "        loss = loss_func(pred, yb)\n",
    "\n",
    "        loss.backward()\n",
    "        opt.step()\n",
    "        opt.zero_grad()\n",
    "\n",
    "print(loss_func(model(xb), yb))"
   ]
  },
  {
   "cell_type": "markdown",
   "id": "438d6755",
   "metadata": {},
   "source": [
    "# Add validation\n",
    "We always want to have a validation set, in order to identify if the model is overfitting to the training data. "
   ]
  },
  {
   "cell_type": "code",
   "execution_count": 18,
   "id": "a24d4d79",
   "metadata": {},
   "outputs": [],
   "source": [
    "# We want to shuffle our training data because this prevents correlation between batches and\n",
    "# overfitting. \n",
    "train_ds = TensorDataset(x_train, y_train)\n",
    "train_dl = DataLoader(train_ds, batch_size=bs, shuffle=True)\n",
    "\n",
    "# We don't need to shuffle our validation data because the loss will be identical no matter the order of\n",
    "# the data. So not shuffling it just saves time\n",
    "# Additionally, because validation does not perform backpropogation, we can have larger batch sizes\n",
    "valid_ds = TensorDataset(x_valid, y_valid)\n",
    "valid_dl = DataLoader(valid_ds, batch_size=bs * 2)"
   ]
  },
  {
   "cell_type": "code",
   "execution_count": 19,
   "id": "ceffe42f",
   "metadata": {},
   "outputs": [
    {
     "name": "stdout",
     "output_type": "stream",
     "text": [
      "0 tensor(0.3149)\n",
      "1 tensor(0.3162)\n"
     ]
    }
   ],
   "source": [
    "# We will calculate the validation loss at the end of each epoch\n",
    "\n",
    "model, opt = get_model()\n",
    "\n",
    "for epoch in range(epochs):\n",
    "    # Putting the model in training mode because this ensures that different nn.Module functions\n",
    "    # are active for learning\n",
    "    model.train()\n",
    "    \n",
    "    for xb, yb in train_dl:\n",
    "        pred = model(xb)\n",
    "        loss = loss_func(pred, yb)\n",
    "\n",
    "        loss.backward()\n",
    "        opt.step()\n",
    "        opt.zero_grad()\n",
    "\n",
    "    # Now put the model in evaluation mode before making inferences. \n",
    "    model.eval()\n",
    "    with torch.no_grad():\n",
    "        # this calculates the total loss over all of the validation batches\n",
    "        valid_loss = sum(loss_func(model(xb), yb) for xb, yb in valid_dl)\n",
    "    \n",
    "    # This prints out the average loss value after the training epoch\n",
    "    # This value should go down each epoch iteration\n",
    "    print(epoch, valid_loss / len(valid_dl))"
   ]
  },
  {
   "cell_type": "markdown",
   "id": "6206cc0c",
   "metadata": {},
   "source": [
    "# Making the code more concise\n",
    "Now let's just refactor the code a little ourselves to make it even more concise and possibly a bit more readable"
   ]
  },
  {
   "cell_type": "code",
   "execution_count": 20,
   "id": "9d2852b3",
   "metadata": {},
   "outputs": [],
   "source": [
    "# This function will calculate the loss of the network and perform backpropogation if \n",
    "# an optimizer is provided to the function\n",
    "# If not, then that means we are in a validation set and we don't want to be performing any \n",
    "# backprop\n",
    "def loss_batch(model, loss_func, xb, yb, opt=None):\n",
    "    loss = loss_func(model(xb), yb)\n",
    "\n",
    "    if opt is not None:\n",
    "        loss.backward()\n",
    "        opt.step()\n",
    "        opt.zero_grad()\n",
    "    \n",
    "    return loss.item(), len(xb)"
   ]
  },
  {
   "cell_type": "code",
   "execution_count": 21,
   "id": "f8cda47f",
   "metadata": {},
   "outputs": [],
   "source": [
    "import numpy as np\n",
    "\n",
    "def fit(epochs, model, loss_func, opt, train_dl, valid_dl):\n",
    "    for epoch in range(epochs):\n",
    "        model.train()\n",
    "\n",
    "        for xb, yb in train_dl:\n",
    "            loss_batch(model, loss_func, xb, yb, opt)\n",
    "        \n",
    "        model.eval()\n",
    "        with torch.no_grad():\n",
    "            losses, nums = zip(\n",
    "                *[loss_batch(model, loss_func, xb, yb) for xb, yb in valid_dl]\n",
    "            )\n",
    "        val_loss = np.sum(np.multiply(losses, nums)) / np.sum(nums)\n",
    "\n",
    "        print(epoch, val_loss)"
   ]
  },
  {
   "cell_type": "code",
   "execution_count": 22,
   "id": "c59045e4",
   "metadata": {},
   "outputs": [],
   "source": [
    "# this function just returns the dataloaders for the training and validation sets\n",
    "def get_data(train_ds, valid_ds, bs):\n",
    "    return (\n",
    "        DataLoader(train_ds, batch_size=bs, shuffle=True),\n",
    "        DataLoader(valid_ds, batch_size=bs * 2)\n",
    "    )"
   ]
  },
  {
   "cell_type": "code",
   "execution_count": 23,
   "id": "0db91c64",
   "metadata": {},
   "outputs": [
    {
     "name": "stdout",
     "output_type": "stream",
     "text": [
      "0 0.2948082634329796\n",
      "1 0.2865330043673515\n"
     ]
    }
   ],
   "source": [
    "train_dl, valid_dl = get_data(train_ds, valid_ds, bs)\n",
    "model, opt = get_model()\n",
    "\n",
    "fit(epochs, model, loss_func, opt, train_dl, valid_dl)"
   ]
  }
 ],
 "metadata": {
  "kernelspec": {
   "display_name": "Python (pyenv)",
   "language": "python",
   "name": "pyenv"
  },
  "language_info": {
   "codemirror_mode": {
    "name": "ipython",
    "version": 3
   },
   "file_extension": ".py",
   "mimetype": "text/x-python",
   "name": "python",
   "nbconvert_exporter": "python",
   "pygments_lexer": "ipython3",
   "version": "3.11.0"
  }
 },
 "nbformat": 4,
 "nbformat_minor": 5
}
